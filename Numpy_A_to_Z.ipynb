{
  "nbformat": 4,
  "nbformat_minor": 0,
  "metadata": {
    "colab": {
      "provenance": []
    },
    "kernelspec": {
      "name": "python3",
      "display_name": "Python 3"
    },
    "language_info": {
      "name": "python"
    }
  },
  "cells": [
    {
      "cell_type": "markdown",
      "source": [
        "# Numpy A-Z You Need To Do Data Anaysis"
      ],
      "metadata": {
        "id": "FGUzD_6t778Y"
      }
    },
    {
      "cell_type": "code",
      "source": [
        "#With notes"
      ],
      "metadata": {
        "id": "Q_Et1Yrw8Tys"
      },
      "execution_count": null,
      "outputs": []
    },
    {
      "cell_type": "markdown",
      "source": [
        "**NOTE**\n",
        "\n",
        "To create array: np.array()\n",
        "\n",
        "\n",
        "To check type: type(function name)\n",
        "\n",
        "To check dimention: Array_Nam.ndim\n",
        "\n",
        "Indexing: Array_Nam[0]\n",
        "\n",
        "2D:Array_Nam[0,1] #2nd element on 1st row\n",
        "\n",
        "Slicing:Array_Nam[0:5]\n",
        "\n",
        "Shape:Array_Nam.shape\n",
        "\n",
        "Data Type: Array_Name.dtype\n",
        "\n",
        "To change data type: astype()\n",
        "\n",
        "To chabge a element:x=Array_Nam.copy\n",
        "Array_Name[0]=1/anything\n",
        "\n",
        "To iterating(go through each element): for loop / nditer\n",
        "\n",
        "To join: concatenate/stack\n",
        "\n",
        "To join along with rows: concatenate/stack(axis=1)\n",
        "\n",
        "To split=Array_Name_split\n",
        "\n",
        "**Random**\n",
        "\n",
        "To generate 100 random numbers: random.rand(100)\n",
        "\n",
        "To generate 0-100 a numbers: random.randint(100)\n",
        "\n",
        "To generate a random array: random.randint(100, size=5/6)\n",
        "\n",
        "\n",
        "**Universal Function**\n",
        "\n",
        "To add:np.add\n",
        "\n",
        "\n",
        "To Build you universal function:\n",
        " np.frompyfunc(Function_Name,2,1)\n",
        "\n",
        "To remove decimal places:trunc()/fix()\n",
        "\n",
        "Round off 3.1666 to 2 decimal places:np.around(3.1666, 2)\n",
        "\n",
        "To round off nearest upper integer=Ceil\n"
      ],
      "metadata": {
        "id": "3wZiV-VmNr6f"
      }
    },
    {
      "cell_type": "code",
      "execution_count": null,
      "metadata": {
        "id": "K4xPod_EyOkI"
      },
      "outputs": [],
      "source": [
        "import numpy as np"
      ]
    },
    {
      "cell_type": "markdown",
      "source": [
        "# **NumPy Creating Arrays**"
      ],
      "metadata": {
        "id": "ePjUy4GKy1FZ"
      }
    },
    {
      "cell_type": "code",
      "source": [
        "arr=np.array([1,2,3,4,5])\n",
        "arr"
      ],
      "metadata": {
        "colab": {
          "base_uri": "https://localhost:8080/"
        },
        "id": "exrbG4EjyWmV",
        "outputId": "1023d6a6-bbe9-473e-bcd6-870b35cbc824"
      },
      "execution_count": null,
      "outputs": [
        {
          "output_type": "execute_result",
          "data": {
            "text/plain": [
              "array([1, 2, 3, 4, 5])"
            ]
          },
          "metadata": {},
          "execution_count": 4
        }
      ]
    },
    {
      "cell_type": "code",
      "source": [
        "type(arr)"
      ],
      "metadata": {
        "colab": {
          "base_uri": "https://localhost:8080/"
        },
        "id": "BVGDmEDQy6kZ",
        "outputId": "40a70906-4ff0-4ba6-ae19-f1e593264646"
      },
      "execution_count": null,
      "outputs": [
        {
          "output_type": "execute_result",
          "data": {
            "text/plain": [
              "numpy.ndarray"
            ]
          },
          "metadata": {},
          "execution_count": 5
        }
      ]
    },
    {
      "cell_type": "markdown",
      "source": [
        "**Check Number of Dimensions?**\n",
        "\n",
        "NumPy Arrays provides the ndim attribute that returns an integer that tells us how many dimensions the array have."
      ],
      "metadata": {
        "id": "X_ApF39CzJeX"
      }
    },
    {
      "cell_type": "code",
      "source": [
        "a = np.array(42)\n",
        "b = np.array([1, 2, 3, 4, 5])\n",
        "c = np.array([[1, 2, 3], [4, 5, 6]])\n",
        "d = np.array([[[1, 2, 3], [4, 5, 6]], [[1, 2, 3], [4, 5, 6]]])\n",
        "\n",
        "\n",
        "#Checking dimentions\n",
        "print(a.ndim)\n",
        "print(b.ndim)\n",
        "print(c.ndim)\n",
        "print(d.ndim)\n",
        "#Which means[] using this you can have dimentions"
      ],
      "metadata": {
        "colab": {
          "base_uri": "https://localhost:8080/"
        },
        "id": "WrRJxJ_gzG_i",
        "outputId": "0fb90cdc-7887-4dac-f534-97a3430b4e38"
      },
      "execution_count": null,
      "outputs": [
        {
          "output_type": "stream",
          "name": "stdout",
          "text": [
            "0\n",
            "1\n",
            "2\n",
            "3\n"
          ]
        }
      ]
    },
    {
      "cell_type": "markdown",
      "source": [
        "Create an array with 5 dimensions and verify that it has 5 dimensions:"
      ],
      "metadata": {
        "id": "Rs_Cc6Dfzo9T"
      }
    },
    {
      "cell_type": "code",
      "source": [
        "arr=np.array([1,2,3,4],ndmin=5)\n",
        "print(arr)\n",
        "print(\"number of dimentions:\",arr.ndim)"
      ],
      "metadata": {
        "colab": {
          "base_uri": "https://localhost:8080/"
        },
        "id": "WDzxKpKBzkWd",
        "outputId": "b14cab7a-c1f2-447f-89a5-d07a683dc0c0"
      },
      "execution_count": null,
      "outputs": [
        {
          "output_type": "stream",
          "name": "stdout",
          "text": [
            "[[[[[1 2 3 4]]]]]\n",
            "number of dimentions: 5\n"
          ]
        }
      ]
    },
    {
      "cell_type": "markdown",
      "source": [
        "# NumPy Array Indexing"
      ],
      "metadata": {
        "id": "c4iCdmH3z1-r"
      }
    },
    {
      "cell_type": "markdown",
      "source": [
        "For an example get the first element of the array"
      ],
      "metadata": {
        "id": "z042s2h615h9"
      }
    },
    {
      "cell_type": "code",
      "source": [
        "arr = np.array([1, 2, 3, 4])\n",
        "\n",
        "print(arr[0])\n"
      ],
      "metadata": {
        "colab": {
          "base_uri": "https://localhost:8080/"
        },
        "id": "Jp0VvYx3z5Gd",
        "outputId": "dd6e4de6-6e3c-4751-8ca5-2e2064f57464"
      },
      "execution_count": null,
      "outputs": [
        {
          "output_type": "stream",
          "name": "stdout",
          "text": [
            "1\n"
          ]
        }
      ]
    },
    {
      "cell_type": "markdown",
      "source": [
        "add the first and second element"
      ],
      "metadata": {
        "id": "YnMQy9Pu2Ibu"
      }
    },
    {
      "cell_type": "code",
      "source": [
        "print(arr[0]+arr[1])"
      ],
      "metadata": {
        "colab": {
          "base_uri": "https://localhost:8080/"
        },
        "id": "fOakZRnM2H14",
        "outputId": "5b67589f-2ff5-4394-dbd5-279fdbef4933"
      },
      "execution_count": null,
      "outputs": [
        {
          "output_type": "stream",
          "name": "stdout",
          "text": [
            "3\n"
          ]
        }
      ]
    },
    {
      "cell_type": "markdown",
      "source": [
        "How to access 2D data"
      ],
      "metadata": {
        "id": "KmE-YjI22aXJ"
      }
    },
    {
      "cell_type": "code",
      "source": [
        "arr = np.array([[1,2,3,4,5], [6,7,8,9,10]])\n",
        "\n",
        "print('2nd element on 1st row: ', arr[0, 1])"
      ],
      "metadata": {
        "colab": {
          "base_uri": "https://localhost:8080/"
        },
        "id": "U1RkzkkY2eZr",
        "outputId": "11104463-bdca-4ed5-fe38-522d2474deab"
      },
      "execution_count": null,
      "outputs": [
        {
          "output_type": "stream",
          "name": "stdout",
          "text": [
            "2nd element on 1st row:  2\n"
          ]
        }
      ]
    },
    {
      "cell_type": "code",
      "source": [
        "print('5th element on 2nd row: ', arr[1, 4])"
      ],
      "metadata": {
        "colab": {
          "base_uri": "https://localhost:8080/"
        },
        "id": "8BgZMdoz2uKG",
        "outputId": "5bb59ae3-4cc7-4b91-88df-3991835adc16"
      },
      "execution_count": null,
      "outputs": [
        {
          "output_type": "stream",
          "name": "stdout",
          "text": [
            "5th element on 2nd row:  10\n"
          ]
        }
      ]
    },
    {
      "cell_type": "markdown",
      "source": [
        "# For 3D array:\n",
        "The first number represents the first dimension, which contains two arrays:\n",
        "[[1, 2, 3], [4, 5, 6]]\n",
        "and:\n",
        "[[7, 8, 9], [10, 11, 12]]\n",
        "Since we selected 0, we are left with the first array:\n",
        "[[1, 2, 3], [4, 5, 6]]\n",
        "\n",
        "The second number represents the second dimension, which also contains two arrays:\n",
        "[1, 2, 3]\n",
        "and:\n",
        "[4, 5, 6]\n",
        "Since we selected 1, we are left with the second array:\n",
        "[4, 5, 6]\n",
        "\n",
        "The third number represents the third dimension, which contains three values:\n",
        "4\n",
        "5\n",
        "6\n",
        "Since we selected 2, we end up with the third value:\n",
        "6"
      ],
      "metadata": {
        "id": "9ubZ0sfN264v"
      }
    },
    {
      "cell_type": "code",
      "source": [
        "arr = np.array([[[1, 2, 3], [4, 5, 6]], [[7, 8, 9], [10, 11, 12]]])\n",
        "\n",
        "print(arr[0, 1, 2])\n"
      ],
      "metadata": {
        "colab": {
          "base_uri": "https://localhost:8080/"
        },
        "id": "YDFkk6073F5E",
        "outputId": "d7c26539-2b56-4e59-ec5d-ac798eca1bbc"
      },
      "execution_count": null,
      "outputs": [
        {
          "output_type": "stream",
          "name": "stdout",
          "text": [
            "6\n"
          ]
        }
      ]
    },
    {
      "cell_type": "markdown",
      "source": [
        "# NumPy Array Slicing"
      ],
      "metadata": {
        "id": "GCPX6dBb3iRz"
      }
    },
    {
      "cell_type": "code",
      "source": [
        "arr = np.array([1, 2, 3, 4, 5, 6, 7])\n",
        "\n",
        "print(arr[1:5])\n"
      ],
      "metadata": {
        "colab": {
          "base_uri": "https://localhost:8080/"
        },
        "id": "pY1GyBly3hlh",
        "outputId": "8d65bda8-8aa6-4718-cb97-8117ba26da82"
      },
      "execution_count": null,
      "outputs": [
        {
          "output_type": "stream",
          "name": "stdout",
          "text": [
            "[2 3 4 5]\n"
          ]
        }
      ]
    },
    {
      "cell_type": "markdown",
      "source": [
        "STEP\n",
        "\n",
        "Use the step value to determine the step of the slicing:"
      ],
      "metadata": {
        "id": "77A4UeIY3x5m"
      }
    },
    {
      "cell_type": "code",
      "source": [
        "arr = np.array([1, 2, 3, 4, 5, 6, 7])\n",
        "\n",
        "print(arr[1:5:2])"
      ],
      "metadata": {
        "colab": {
          "base_uri": "https://localhost:8080/"
        },
        "id": "QP1TiLSC30P5",
        "outputId": "77907aaa-2437-4616-8c8b-91aaf9aa3ea0"
      },
      "execution_count": null,
      "outputs": [
        {
          "output_type": "stream",
          "name": "stdout",
          "text": [
            "[2 4]\n"
          ]
        }
      ]
    },
    {
      "cell_type": "code",
      "source": [
        "arr = np.array([1, 2, 3, 4, 5, 6, 7])\n",
        "\n",
        "print(arr[::2])"
      ],
      "metadata": {
        "colab": {
          "base_uri": "https://localhost:8080/"
        },
        "id": "866R36E15dvI",
        "outputId": "5d484845-875c-48c2-e09e-83501693badd"
      },
      "execution_count": null,
      "outputs": [
        {
          "output_type": "stream",
          "name": "stdout",
          "text": [
            "[1 3 5 7]\n"
          ]
        }
      ]
    },
    {
      "cell_type": "code",
      "source": [
        "arr = np.array([[1, 2, 3, 4, 5], [6, 7, 8, 9, 10]])\n",
        "\n",
        "print(arr[0:2, 1:4])"
      ],
      "metadata": {
        "colab": {
          "base_uri": "https://localhost:8080/"
        },
        "id": "uEdl_kgc5KOu",
        "outputId": "091b58dc-5d53-465c-c86f-86a2512b4296"
      },
      "execution_count": null,
      "outputs": [
        {
          "output_type": "stream",
          "name": "stdout",
          "text": [
            "[[2 3 4]\n",
            " [7 8 9]]\n"
          ]
        }
      ]
    },
    {
      "cell_type": "markdown",
      "source": [
        "# Data Types\n",
        "\n",
        "**i - integer**\n",
        "**b - boolean**\n",
        "u - unsigned integer\n",
        "**f - float**\n",
        "**c - complex float**\n",
        "m - timedelta\n",
        "M - datetime\n",
        "O - object\n",
        "S - string\n",
        "U - unicode string\n",
        "V - fixed chunk of memory for other type ( void )"
      ],
      "metadata": {
        "id": "l6GmOL3S58GO"
      }
    },
    {
      "cell_type": "code",
      "source": [
        "arr=np.random.rand(10)\n",
        "print(arr.dtype)\n",
        "print(arr)"
      ],
      "metadata": {
        "colab": {
          "base_uri": "https://localhost:8080/"
        },
        "id": "c9q3Y0wZEYeI",
        "outputId": "7b312019-71ba-4f9a-9721-022fbed7e4d5"
      },
      "execution_count": null,
      "outputs": [
        {
          "output_type": "stream",
          "name": "stdout",
          "text": [
            "float64\n",
            "[0.03771194 0.654792   0.33108321 0.57861765 0.00659381 0.55139994\n",
            " 0.54038996 0.57467799 0.62521032 0.33523993]\n"
          ]
        }
      ]
    },
    {
      "cell_type": "code",
      "source": [
        "arr=np.array([1,2,2,2,2,4],dtype=\"S\")\n",
        "\n",
        "print(arr.dtype)\n",
        "print(arr)"
      ],
      "metadata": {
        "colab": {
          "base_uri": "https://localhost:8080/"
        },
        "id": "sFuPCaR3ExCH",
        "outputId": "65ff03d3-da12-4b95-dd31-be31b061ae4f"
      },
      "execution_count": null,
      "outputs": [
        {
          "output_type": "stream",
          "name": "stdout",
          "text": [
            "|S1\n",
            "[b'1' b'2' b'2' b'2' b'2' b'4']\n"
          ]
        }
      ]
    },
    {
      "cell_type": "markdown",
      "source": [
        "# Converting Data Type on Existing Arrays"
      ],
      "metadata": {
        "id": "SllTucgSFSwn"
      }
    },
    {
      "cell_type": "code",
      "source": [
        "arr=np.array([1.1,2.1,3.1])\n",
        "\n",
        "newarr=arr.astype(\"i\")\n",
        "\n",
        "print(newarr)\n",
        "print(newarr.dtype)"
      ],
      "metadata": {
        "colab": {
          "base_uri": "https://localhost:8080/"
        },
        "id": "jsS0lwgmFV9I",
        "outputId": "62b27631-cbab-41f2-adf5-fc3af0f565f1"
      },
      "execution_count": null,
      "outputs": [
        {
          "output_type": "stream",
          "name": "stdout",
          "text": [
            "[1 2 3]\n",
            "int32\n"
          ]
        }
      ]
    },
    {
      "cell_type": "code",
      "source": [
        "arr=np.array([1.1,2.1,3.1])\n",
        "\n",
        "newarr=arr.astype(\"bool\")\n",
        "\n",
        "print(newarr)\n",
        "print(newarr.dtype)"
      ],
      "metadata": {
        "colab": {
          "base_uri": "https://localhost:8080/"
        },
        "id": "J6Qam2aDFiI6",
        "outputId": "7d15b373-d64a-4758-a0e3-387799aeb6e0"
      },
      "execution_count": null,
      "outputs": [
        {
          "output_type": "stream",
          "name": "stdout",
          "text": [
            "[ True  True  True]\n",
            "bool\n"
          ]
        }
      ]
    },
    {
      "cell_type": "markdown",
      "source": [
        "# NumPy Array Copy vs View"
      ],
      "metadata": {
        "id": "JkaCTMr6H_J8"
      }
    },
    {
      "cell_type": "code",
      "source": [
        "arr=np.array([1,2,3,4,5])\n",
        "x=arr.copy()\n",
        "arr[0]=23\n",
        "print(arr)\n",
        "print(x)"
      ],
      "metadata": {
        "colab": {
          "base_uri": "https://localhost:8080/"
        },
        "id": "xc7zlYAtICxZ",
        "outputId": "2139f4f8-a240-4280-c253-34e8fc6675c0"
      },
      "execution_count": null,
      "outputs": [
        {
          "output_type": "stream",
          "name": "stdout",
          "text": [
            "[23  2  3  4  5]\n",
            "[1 2 3 4 5]\n"
          ]
        }
      ]
    },
    {
      "cell_type": "code",
      "source": [
        "arr = np.array([1, 2, 3, 4, 5])\n",
        "x = arr.view()\n",
        "arr[0] = 42\n",
        "\n",
        "print(arr)\n",
        "print(x)"
      ],
      "metadata": {
        "colab": {
          "base_uri": "https://localhost:8080/"
        },
        "id": "NThWTvhoIXKm",
        "outputId": "4f965ef5-5134-4c8d-9d77-32f1592d4322"
      },
      "execution_count": null,
      "outputs": [
        {
          "output_type": "stream",
          "name": "stdout",
          "text": [
            "[42  2  3  4  5]\n",
            "[42  2  3  4  5]\n"
          ]
        }
      ]
    },
    {
      "cell_type": "markdown",
      "source": [
        "# Shape of array"
      ],
      "metadata": {
        "id": "2uWPEi9oK4MI"
      }
    },
    {
      "cell_type": "code",
      "source": [
        "arr.shape"
      ],
      "metadata": {
        "colab": {
          "base_uri": "https://localhost:8080/"
        },
        "id": "-KgP5u3cK0xu",
        "outputId": "85f53e29-c3b3-4cb9-d6d0-7c21bfe71d06"
      },
      "execution_count": null,
      "outputs": [
        {
          "output_type": "execute_result",
          "data": {
            "text/plain": [
              "(5,)"
            ]
          },
          "metadata": {},
          "execution_count": 23
        }
      ]
    },
    {
      "cell_type": "code",
      "source": [
        "arr = np.array([[1, 2, 3, 4], [5, 6, 7, 8]])\n",
        "\n",
        "print(arr.shape)"
      ],
      "metadata": {
        "colab": {
          "base_uri": "https://localhost:8080/"
        },
        "id": "RqnrP62LLC1e",
        "outputId": "8411a71d-126b-4ca7-deee-d0d95716ad39"
      },
      "execution_count": null,
      "outputs": [
        {
          "output_type": "stream",
          "name": "stdout",
          "text": [
            "(2, 4)\n"
          ]
        }
      ]
    },
    {
      "cell_type": "code",
      "source": [
        "arr = np.array([1, 2, 3, 4], ndmin=5)\n",
        "\n",
        "print(arr)\n",
        "print('shape of array :', arr.shape)\n"
      ],
      "metadata": {
        "colab": {
          "base_uri": "https://localhost:8080/"
        },
        "id": "i7siz55NLKzB",
        "outputId": "14a8b2d0-cc62-42df-8cb0-f8daf1fd1423"
      },
      "execution_count": null,
      "outputs": [
        {
          "output_type": "stream",
          "name": "stdout",
          "text": [
            "[[[[[1 2 3 4]]]]]\n",
            "shape of array : (1, 1, 1, 1, 4)\n"
          ]
        }
      ]
    },
    {
      "cell_type": "markdown",
      "source": [
        "# Reshaping arrays\n",
        "\n",
        "1D to 2D"
      ],
      "metadata": {
        "id": "h8FAMWX1LQ3_"
      }
    },
    {
      "cell_type": "code",
      "source": [
        "arr = np.array([1, 2, 3, 4, 5, 6, 7, 8, 9, 10, 11, 12])\n",
        "\n",
        "newarr = arr.reshape(4, 3)\n",
        "#first digit is collum second digit is row\n",
        "\n",
        "print(newarr)"
      ],
      "metadata": {
        "colab": {
          "base_uri": "https://localhost:8080/"
        },
        "id": "Y9bRfUiELV-K",
        "outputId": "529745de-ef52-4e57-c754-abd1a501188a"
      },
      "execution_count": null,
      "outputs": [
        {
          "output_type": "stream",
          "name": "stdout",
          "text": [
            "[[ 1  2  3]\n",
            " [ 4  5  6]\n",
            " [ 7  8  9]\n",
            " [10 11 12]]\n"
          ]
        }
      ]
    },
    {
      "cell_type": "code",
      "source": [
        "newarr = arr.reshape(2, 3,2)\n",
        "#first one is array second one is collum and the third one is row\n",
        "newarr"
      ],
      "metadata": {
        "colab": {
          "base_uri": "https://localhost:8080/"
        },
        "id": "lUh-KOwTLoCt",
        "outputId": "c5219984-652b-40ed-b734-6afe670a1d07"
      },
      "execution_count": null,
      "outputs": [
        {
          "output_type": "execute_result",
          "data": {
            "text/plain": [
              "array([[[ 1,  2],\n",
              "        [ 3,  4],\n",
              "        [ 5,  6]],\n",
              "\n",
              "       [[ 7,  8],\n",
              "        [ 9, 10],\n",
              "        [11, 12]]])"
            ]
          },
          "metadata": {},
          "execution_count": 27
        }
      ]
    },
    {
      "cell_type": "markdown",
      "source": [
        "We can reshape an 8 elements 1D array into 4 elements in 2 rows 2D array but we cannot reshape it into a 3 elements 3 rows 2D array as that would require 3x3 = 9 elements."
      ],
      "metadata": {
        "id": "OJL3IwwPMHC7"
      }
    },
    {
      "cell_type": "markdown",
      "source": [
        "**reshape(-1)**"
      ],
      "metadata": {
        "id": "KTeKEH4DMpyG"
      }
    },
    {
      "cell_type": "code",
      "source": [
        "arr = np.array([[1, 2, 4], [4, 5, 6]])\n",
        "\n",
        "newarr = arr.reshape(-1)\n",
        "\n",
        "print(newarr)"
      ],
      "metadata": {
        "colab": {
          "base_uri": "https://localhost:8080/"
        },
        "id": "jgykyiFuMtG7",
        "outputId": "f19c5975-7fc1-4ce4-f3b6-a48e23a85333"
      },
      "execution_count": null,
      "outputs": [
        {
          "output_type": "stream",
          "name": "stdout",
          "text": [
            "[1 2 4 4 5 6]\n"
          ]
        }
      ]
    },
    {
      "cell_type": "markdown",
      "source": [
        "# NumPy Array Iterating\n",
        "\n",
        "Iterating means going through elements one by one.\n",
        "\n",
        "As we deal with multi-dimensional arrays in numpy, we can do this using basic for loop of python.\n",
        "\n",
        "If we iterate on a 1-D array it will go through each element one by one."
      ],
      "metadata": {
        "id": "eslUrhJmQZgw"
      }
    },
    {
      "cell_type": "code",
      "source": [
        "arr=np.array([1,2,3])\n",
        "for x in arr:\n",
        "  print(x)"
      ],
      "metadata": {
        "colab": {
          "base_uri": "https://localhost:8080/"
        },
        "id": "UQ-lxV2EQa-I",
        "outputId": "85c2ab17-d857-42c2-c9f5-39d4474cea97"
      },
      "execution_count": null,
      "outputs": [
        {
          "output_type": "stream",
          "name": "stdout",
          "text": [
            "1\n",
            "2\n",
            "3\n"
          ]
        }
      ]
    },
    {
      "cell_type": "markdown",
      "source": [
        "In a 2-D array it will go through all the rows."
      ],
      "metadata": {
        "id": "RcaOPlRnQoFQ"
      }
    },
    {
      "cell_type": "code",
      "source": [
        "arr = np.array([[1, 2, 3], [4, 5, 6]])\n",
        "\n",
        "for x in arr:\n",
        "  print(x)"
      ],
      "metadata": {
        "colab": {
          "base_uri": "https://localhost:8080/"
        },
        "id": "B5lEzzF9QpxG",
        "outputId": "274598bd-230a-4c5d-8834-1cd38a724aa7"
      },
      "execution_count": null,
      "outputs": [
        {
          "output_type": "stream",
          "name": "stdout",
          "text": [
            "[1 2 3]\n",
            "[4 5 6]\n"
          ]
        }
      ]
    },
    {
      "cell_type": "markdown",
      "source": [
        "Iterate on each scalar element of the 2-D array:"
      ],
      "metadata": {
        "id": "KuXcE8TOQy0z"
      }
    },
    {
      "cell_type": "code",
      "source": [
        "for x in arr:\n",
        "  for y in x:\n",
        "    print(y)"
      ],
      "metadata": {
        "colab": {
          "base_uri": "https://localhost:8080/"
        },
        "id": "8JGCyei3QzjL",
        "outputId": "2a66b186-3f69-4c1d-c68d-8f2abcf718ea"
      },
      "execution_count": null,
      "outputs": [
        {
          "output_type": "stream",
          "name": "stdout",
          "text": [
            "1\n",
            "2\n",
            "3\n",
            "4\n",
            "5\n",
            "6\n"
          ]
        }
      ]
    },
    {
      "cell_type": "code",
      "source": [
        "arr1 = np.array([[[1, 2, 3], [4, 5, 6]], [[7, 8, 9], [10, 11, 12]]])\n",
        "#a 3D array"
      ],
      "metadata": {
        "id": "DW_iQBQXRJMK"
      },
      "execution_count": null,
      "outputs": []
    },
    {
      "cell_type": "code",
      "source": [
        "for x in arr1:\n",
        "  print(x)"
      ],
      "metadata": {
        "colab": {
          "base_uri": "https://localhost:8080/"
        },
        "id": "SJjfRUIKRO_t",
        "outputId": "4c333d62-f5ae-4f32-bc43-c14ebc9a757a"
      },
      "execution_count": null,
      "outputs": [
        {
          "output_type": "stream",
          "name": "stdout",
          "text": [
            "[[1 2 3]\n",
            " [4 5 6]]\n",
            "[[ 7  8  9]\n",
            " [10 11 12]]\n"
          ]
        }
      ]
    },
    {
      "cell_type": "code",
      "source": [
        "for x in arr1:\n",
        "  for y in x:\n",
        "    for z in y:\n",
        "      print(z)"
      ],
      "metadata": {
        "colab": {
          "base_uri": "https://localhost:8080/"
        },
        "id": "cWI3t-ubRRvT",
        "outputId": "2b07a9d7-0a33-46ab-cbe3-196e47c19b57"
      },
      "execution_count": null,
      "outputs": [
        {
          "output_type": "stream",
          "name": "stdout",
          "text": [
            "1\n",
            "2\n",
            "3\n",
            "4\n",
            "5\n",
            "6\n",
            "7\n",
            "8\n",
            "9\n",
            "10\n",
            "11\n",
            "12\n"
          ]
        }
      ]
    },
    {
      "cell_type": "code",
      "source": [
        "arr = np.array([[[1, 2], [3, 4]], [[5, 6], [7, 8]]])\n",
        "for x in np.nditer(arr):\n",
        "  print(x)"
      ],
      "metadata": {
        "colab": {
          "base_uri": "https://localhost:8080/"
        },
        "id": "_4LTZ1KNRl1C",
        "outputId": "670887a2-2d8a-4efb-8ba5-3b5eba48f55d"
      },
      "execution_count": null,
      "outputs": [
        {
          "output_type": "stream",
          "name": "stdout",
          "text": [
            "1\n",
            "2\n",
            "3\n",
            "4\n",
            "5\n",
            "6\n",
            "7\n",
            "8\n"
          ]
        }
      ]
    },
    {
      "cell_type": "code",
      "source": [
        "for x in np.nditer(arr[:, ::2]):\n",
        "  print(x)\n"
      ],
      "metadata": {
        "id": "IAEoXbruWUiU",
        "outputId": "2cc61cc4-ad59-4d01-9d33-683b72ec6f57",
        "colab": {
          "base_uri": "https://localhost:8080/"
        }
      },
      "execution_count": null,
      "outputs": [
        {
          "output_type": "stream",
          "name": "stdout",
          "text": [
            "1\n",
            "2\n",
            "5\n",
            "6\n"
          ]
        }
      ]
    },
    {
      "cell_type": "markdown",
      "source": [
        "# Joining Array\n",
        "\n"
      ],
      "metadata": {
        "id": "NMadTwxl3rgE"
      }
    },
    {
      "cell_type": "code",
      "source": [
        "arr1=np.array([1,2,3])\n",
        "arr2=np.array([4,5,6])\n",
        "aa=np.concatenate((arr1,arr2))\n",
        "aa"
      ],
      "metadata": {
        "colab": {
          "base_uri": "https://localhost:8080/"
        },
        "id": "Vodb6wit3yfb",
        "outputId": "85a7a4d5-6392-42f9-c26d-8ea0dc084b65"
      },
      "execution_count": null,
      "outputs": [
        {
          "output_type": "execute_result",
          "data": {
            "text/plain": [
              "array([1, 2, 3, 4, 5, 6])"
            ]
          },
          "metadata": {},
          "execution_count": 37
        }
      ]
    },
    {
      "cell_type": "code",
      "source": [
        "#joining 2D array along with rows(axis=1)\n",
        "\n",
        "\n",
        "arr1 = np.array([[1, 2], [3, 4]])\n",
        "\n",
        "arr2 = np.array([[5, 6], [7, 8]])\n",
        "\n",
        "arr = np.concatenate((arr1, arr2), axis=1)\n",
        "\n",
        "print(arr)"
      ],
      "metadata": {
        "colab": {
          "base_uri": "https://localhost:8080/"
        },
        "id": "69r5BulB4PDH",
        "outputId": "725d86eb-cc98-40d8-c2cf-b47cc0e194fb"
      },
      "execution_count": null,
      "outputs": [
        {
          "output_type": "stream",
          "name": "stdout",
          "text": [
            "[[1 2 5 6]\n",
            " [3 4 7 8]]\n"
          ]
        }
      ]
    },
    {
      "cell_type": "code",
      "source": [
        "#spliting\n",
        "\n",
        "arr = np.array([1, 2, 3, 4, 5, 6])\n",
        "\n",
        "newarr = np.array_split(arr, 4)\n",
        "\n",
        "print(newarr)"
      ],
      "metadata": {
        "colab": {
          "base_uri": "https://localhost:8080/"
        },
        "id": "KiXClfD85a4X",
        "outputId": "2f74903e-04a6-4c5c-9ac4-0142eb1b0a2a"
      },
      "execution_count": null,
      "outputs": [
        {
          "output_type": "stream",
          "name": "stdout",
          "text": [
            "[array([1, 2]), array([3, 4]), array([5]), array([6])]\n"
          ]
        }
      ]
    },
    {
      "cell_type": "markdown",
      "source": [
        "# Random Numbers in NumPy"
      ],
      "metadata": {
        "id": "5MonIhrR6KLK"
      }
    },
    {
      "cell_type": "code",
      "source": [
        "from numpy import random\n"
      ],
      "metadata": {
        "id": "BvUj-3is6NaS"
      },
      "execution_count": null,
      "outputs": []
    },
    {
      "cell_type": "markdown",
      "source": [
        "Generate a random integer from 0 to 100:"
      ],
      "metadata": {
        "id": "Zg3BMdgs6du0"
      }
    },
    {
      "cell_type": "code",
      "source": [
        "x=random.randint(100)\n",
        "x"
      ],
      "metadata": {
        "colab": {
          "base_uri": "https://localhost:8080/"
        },
        "id": "drgQS_Ol6T0o",
        "outputId": "d7c6a766-e1a0-4481-d6b8-4dea7df79266"
      },
      "execution_count": null,
      "outputs": [
        {
          "output_type": "execute_result",
          "data": {
            "text/plain": [
              "62"
            ]
          },
          "metadata": {},
          "execution_count": 41
        }
      ]
    },
    {
      "cell_type": "markdown",
      "source": [
        "Generate 100 random numbers"
      ],
      "metadata": {
        "id": "gq79ET296fHv"
      }
    },
    {
      "cell_type": "code",
      "source": [
        "x=random.rand(100)\n",
        "x"
      ],
      "metadata": {
        "colab": {
          "base_uri": "https://localhost:8080/"
        },
        "id": "VcNYjxB96jAv",
        "outputId": "5d951659-b4aa-404c-90bb-a95d52b4c695"
      },
      "execution_count": null,
      "outputs": [
        {
          "output_type": "execute_result",
          "data": {
            "text/plain": [
              "array([0.55052048, 0.82674041, 0.67739965, 0.55790826, 0.70583443,\n",
              "       0.11504447, 0.01069725, 0.78817254, 0.42937989, 0.54387797,\n",
              "       0.377781  , 0.9876527 , 0.29141258, 0.53337237, 0.22454421,\n",
              "       0.14367105, 0.24370104, 0.57179486, 0.35996865, 0.85168666,\n",
              "       0.15172311, 0.37986439, 0.04681573, 0.80359312, 0.21538294,\n",
              "       0.48549095, 0.99744301, 0.13439427, 0.04965752, 0.09341696,\n",
              "       0.30975261, 0.34023734, 0.97390422, 0.25865424, 0.66922358,\n",
              "       0.05430446, 0.56046064, 0.55911134, 0.81371061, 0.27069138,\n",
              "       0.57436538, 0.56362785, 0.54016595, 0.60389286, 0.53710344,\n",
              "       0.54719586, 0.55478541, 0.55648695, 0.19377339, 0.39307445,\n",
              "       0.86352461, 0.42456936, 0.40930629, 0.80467965, 0.15145185,\n",
              "       0.70496669, 0.05338529, 0.20022159, 0.27193989, 0.27238977,\n",
              "       0.95444399, 0.62737403, 0.74202461, 0.70477675, 0.88066345,\n",
              "       0.70398587, 0.90718739, 0.05606423, 0.16022582, 0.20056096,\n",
              "       0.33902274, 0.63234223, 0.04875612, 0.01252854, 0.22536848,\n",
              "       0.05404409, 0.20275287, 0.18235903, 0.46521507, 0.96285629,\n",
              "       0.28838694, 0.19821   , 0.47987935, 0.66444838, 0.13537973,\n",
              "       0.62673788, 0.4511077 , 0.74427689, 0.0265613 , 0.05968455,\n",
              "       0.11178879, 0.33529695, 0.28597927, 0.68798313, 0.26890854,\n",
              "       0.25432613, 0.89065515, 0.59658731, 0.87635602, 0.48299352])"
            ]
          },
          "metadata": {},
          "execution_count": 42
        }
      ]
    },
    {
      "cell_type": "code",
      "source": [
        "#Generate Random Array\n",
        "\n",
        "\n",
        "x=random.randint(100,size=(5))\n",
        "x"
      ],
      "metadata": {
        "colab": {
          "base_uri": "https://localhost:8080/"
        },
        "id": "pLmM_Sz86pz2",
        "outputId": "081eefb7-fe3e-4322-91f3-1e66abff8eb1"
      },
      "execution_count": null,
      "outputs": [
        {
          "output_type": "execute_result",
          "data": {
            "text/plain": [
              "array([86, 15, 83, 63, 88])"
            ]
          },
          "metadata": {},
          "execution_count": 43
        }
      ]
    },
    {
      "cell_type": "code",
      "source": [
        "#Generate Random 2D Array\n",
        "\n",
        "x=random.randint(100,size=(3,5))\n",
        "x\n"
      ],
      "metadata": {
        "colab": {
          "base_uri": "https://localhost:8080/"
        },
        "id": "AsON5MXi7Sqn",
        "outputId": "cef7aef0-4b47-4062-c2bd-d0ccccd88c76"
      },
      "execution_count": null,
      "outputs": [
        {
          "output_type": "execute_result",
          "data": {
            "text/plain": [
              "array([[78, 96, 75, 38, 89],\n",
              "       [63,  7, 82, 50, 24],\n",
              "       [12, 10, 97, 87, 40]])"
            ]
          },
          "metadata": {},
          "execution_count": 44
        }
      ]
    },
    {
      "cell_type": "markdown",
      "source": [
        "# Universal Functions"
      ],
      "metadata": {
        "id": "oyhuS2E18ZIG"
      }
    },
    {
      "cell_type": "code",
      "source": [
        "#Add function\n",
        "\n",
        "x = [1, 2, 3, 4]\n",
        "y = [4, 5, 6, 7]\n",
        "z=np.add(x,y)\n",
        "\n",
        "print(z)"
      ],
      "metadata": {
        "colab": {
          "base_uri": "https://localhost:8080/"
        },
        "id": "KU7NSWKs76YJ",
        "outputId": "7356fd24-9878-4617-a9e8-10555ecc4761"
      },
      "execution_count": null,
      "outputs": [
        {
          "output_type": "stream",
          "name": "stdout",
          "text": [
            "[ 5  7  9 11]\n"
          ]
        }
      ]
    },
    {
      "cell_type": "code",
      "source": [
        "#how to create you own universal function\n",
        "\n",
        "#To create your own ufunc, you have to define a function, like you do with normal functions in Python, then you add it to your NumPy ufunc library with the frompyfunc() method.\n",
        "\n",
        "\n",
        "def myadd(a,b):\n",
        "  return a+b\n",
        "\n",
        "myadd=np.frompyfunc(myadd,2,1)\n",
        "\n",
        "print(myadd([1,2,3,4],[5,6,7,8]))"
      ],
      "metadata": {
        "colab": {
          "base_uri": "https://localhost:8080/"
        },
        "id": "VbtydHCB8_Pb",
        "outputId": "71b2872a-a98a-494f-a473-538142ef4031"
      },
      "execution_count": null,
      "outputs": [
        {
          "output_type": "stream",
          "name": "stdout",
          "text": [
            "[6 8 10 12]\n"
          ]
        }
      ]
    },
    {
      "cell_type": "markdown",
      "source": [
        "2: The first number represents the number of input arguments the Python function myadd takes. In this case, it means that myadd is a function that expects two inputs.\n",
        "\n",
        "1: The second number represents the number of output values the Python function returns. In this case, 1 means that myadd will return one output.\n",
        "\n"
      ],
      "metadata": {
        "id": "27SDSRz3-gI_"
      }
    },
    {
      "cell_type": "code",
      "source": [
        "arr1 = np.array([10, 11, 12, 13, 14, 15])\n",
        "arr2 = np.array([20, 21, 22, 23, 24, 25])\n",
        "\n",
        "\n",
        "newarr = np.add(arr1, arr2)\n",
        "newarr1 = np.subtract(arr1, arr2)\n",
        "newarr2 = np.multiply(arr1, arr2)\n",
        "newarr3 = np.divide(arr1, arr2)\n",
        "newarr4= np.sum([arr1,arr2])\n",
        "\n",
        "print(newarr)\n",
        "print(newarr1)\n",
        "print(newarr2)\n",
        "print(newarr3)\n",
        "print(newarr4)"
      ],
      "metadata": {
        "colab": {
          "base_uri": "https://localhost:8080/"
        },
        "id": "1VYqVic9-ryO",
        "outputId": "9bc6dbe5-27d2-4e33-85a3-1f91f68b53c8"
      },
      "execution_count": null,
      "outputs": [
        {
          "output_type": "stream",
          "name": "stdout",
          "text": [
            "[30 32 34 36 38 40]\n",
            "[-10 -10 -10 -10 -10 -10]\n",
            "[200 231 264 299 336 375]\n",
            "[0.5        0.52380952 0.54545455 0.56521739 0.58333333 0.6       ]\n",
            "210\n"
          ]
        }
      ]
    },
    {
      "cell_type": "code",
      "source": [
        "#absolute\n",
        "\n",
        "arr = np.array([-1, -2, 1, 2, 3, -4])\n",
        "\n",
        "newarr = np.absolute(arr)\n",
        "\n",
        "print(newarr)"
      ],
      "metadata": {
        "colab": {
          "base_uri": "https://localhost:8080/"
        },
        "id": "DVRTPur1_JnV",
        "outputId": "5ccc74a6-299c-4513-8360-0f0a10f450d0"
      },
      "execution_count": null,
      "outputs": [
        {
          "output_type": "stream",
          "name": "stdout",
          "text": [
            "[1 2 1 2 3 4]\n"
          ]
        }
      ]
    },
    {
      "cell_type": "markdown",
      "source": [
        "Remove the decimals, and return the float number closest to zero. Use the trunc() and fix() functions.\n",
        "\n"
      ],
      "metadata": {
        "id": "-m2_pcv7_cLU"
      }
    },
    {
      "cell_type": "code",
      "source": [
        "arr = np.trunc([-3.1666, 3.6667])\n",
        "\n",
        "print(arr)\n",
        "\n",
        "arr1 = np.fix([-3.1666, 3.6667])\n",
        "\n",
        "print(arr1)"
      ],
      "metadata": {
        "colab": {
          "base_uri": "https://localhost:8080/"
        },
        "id": "1bOJlYxm_e8B",
        "outputId": "a0e5b0d5-cfba-4f67-d16c-d1ef7d4f4b47"
      },
      "execution_count": null,
      "outputs": [
        {
          "output_type": "stream",
          "name": "stdout",
          "text": [
            "[-3.  3.]\n",
            "[-3.  3.]\n"
          ]
        }
      ]
    },
    {
      "cell_type": "code",
      "source": [
        "#Round off 3.1666 to 2 decimal places:\n",
        "\n",
        "arr = np.around(3.1666, 2)\n",
        "\n",
        "print(arr)"
      ],
      "metadata": {
        "colab": {
          "base_uri": "https://localhost:8080/"
        },
        "id": "LkpDKiTF_q-k",
        "outputId": "489f253f-c5a1-4c0d-f73a-ff9f8f1f9302"
      },
      "execution_count": null,
      "outputs": [
        {
          "output_type": "stream",
          "name": "stdout",
          "text": [
            "3.17\n"
          ]
        }
      ]
    },
    {
      "cell_type": "markdown",
      "source": [
        "Cummulative Sum\n",
        "Cummulative sum means partially adding the elements in array.\n",
        "\n",
        "E.g. The partial sum of [1, 2, 3, 4] would be [1, 1+2, 1+2+3, 1+2+3+4] = [1, 3, 6, 10].\n",
        "\n",
        "Perfom partial sum with the cumsum() function."
      ],
      "metadata": {
        "id": "1oDaJppzB2Ra"
      }
    },
    {
      "cell_type": "code",
      "source": [
        "arr = np.array([1, 2, 3])\n",
        "\n",
        "newarr = np.cumsum(arr)\n",
        "\n",
        "print(newarr)"
      ],
      "metadata": {
        "colab": {
          "base_uri": "https://localhost:8080/"
        },
        "id": "LysBRsW1B8Yl",
        "outputId": "23e22e5f-d423-4021-b5d2-1a6310b39123"
      },
      "execution_count": null,
      "outputs": [
        {
          "output_type": "stream",
          "name": "stdout",
          "text": [
            "[1 3 6]\n"
          ]
        }
      ]
    },
    {
      "cell_type": "markdown",
      "source": [
        "Products\n",
        "To find the product of the elements in an array, use the prod() function.\n",
        "\n",
        "np.array([1, 2, 3, 4])\n",
        "\n",
        "Returns: 24 because 1 * 2 * 3 *4 = 24"
      ],
      "metadata": {
        "id": "Fj9Lkv5SCHBZ"
      }
    },
    {
      "cell_type": "code",
      "source": [
        "arr=np.array([1,2,3,4])\n",
        "newarr=np.prod(arr)\n",
        "newarr"
      ],
      "metadata": {
        "colab": {
          "base_uri": "https://localhost:8080/"
        },
        "id": "tc09GZiYCGml",
        "outputId": "bb1d83a5-b79d-4c4b-8730-32299d7a0d23"
      },
      "execution_count": null,
      "outputs": [
        {
          "output_type": "execute_result",
          "data": {
            "text/plain": [
              "24"
            ]
          },
          "metadata": {},
          "execution_count": 52
        }
      ]
    },
    {
      "cell_type": "markdown",
      "source": [
        "Cummulative Product\n",
        "Cummulative product means taking the product partially.\n",
        "\n",
        "E.g. The partial product of [1, 2, 3, 4] is [1, 1*2, 1*2*3, 1*2*3*4] = [1, 2, 6, 24]\n",
        "\n",
        "Perfom partial sum with the cumprod() function."
      ],
      "metadata": {
        "id": "awE6C0v_Cpp8"
      }
    },
    {
      "cell_type": "code",
      "source": [
        "arr = np.array([5, 6, 7, 8])\n",
        "\n",
        "newarr = np.cumprod(arr)\n",
        "\n",
        "print(newarr)"
      ],
      "metadata": {
        "colab": {
          "base_uri": "https://localhost:8080/"
        },
        "id": "e1VkoibKCsh8",
        "outputId": "0d8d1a8c-cae2-43fb-c625-a1a5b11e9dc7"
      },
      "execution_count": null,
      "outputs": [
        {
          "output_type": "stream",
          "name": "stdout",
          "text": [
            "[   5   30  210 1680]\n"
          ]
        }
      ]
    },
    {
      "cell_type": "markdown",
      "source": [
        "Differences\n",
        "A discrete difference means subtracting two successive elements.\n",
        "\n",
        "E.g. for [1, 2, 3, 4], the discrete difference would be [2-1, 3-2, 4-3] = [1, 1, 1]\n",
        "\n",
        "To find the discrete difference, use the diff() function.\n",
        "\n"
      ],
      "metadata": {
        "id": "z_LduegaC1UR"
      }
    },
    {
      "cell_type": "code",
      "source": [
        "arr = np.array([10, 15, 25, 5])\n",
        "\n",
        "newarr = np.diff(arr)\n",
        "\n",
        "print(newarr)"
      ],
      "metadata": {
        "colab": {
          "base_uri": "https://localhost:8080/"
        },
        "id": "S4a70sauC3F4",
        "outputId": "fed43a8b-71f9-49b0-9e81-8f016f35c602"
      },
      "execution_count": null,
      "outputs": [
        {
          "output_type": "stream",
          "name": "stdout",
          "text": [
            "[  5  10 -20]\n"
          ]
        }
      ]
    },
    {
      "cell_type": "code",
      "source": [
        "np.min(arr)"
      ],
      "metadata": {
        "id": "2xGTwRZMDIzN",
        "outputId": "fcd73dde-14db-4c2e-f7f4-2e269b45b972",
        "colab": {
          "base_uri": "https://localhost:8080/"
        }
      },
      "execution_count": null,
      "outputs": [
        {
          "output_type": "execute_result",
          "data": {
            "text/plain": [
              "5"
            ]
          },
          "metadata": {},
          "execution_count": 55
        }
      ]
    },
    {
      "cell_type": "code",
      "source": [
        "np.max(arr)"
      ],
      "metadata": {
        "id": "kK7aC0zuDNrF",
        "outputId": "a53c8494-781f-4704-80b8-df28013a8a60",
        "colab": {
          "base_uri": "https://localhost:8080/"
        }
      },
      "execution_count": null,
      "outputs": [
        {
          "output_type": "execute_result",
          "data": {
            "text/plain": [
              "25"
            ]
          },
          "metadata": {},
          "execution_count": 56
        }
      ]
    },
    {
      "cell_type": "code",
      "source": [
        "a = np.array([[1, 2, 3], [4, 5, 6]])\n",
        "b = np.array([[7, 8, 9], [10, 11, 12]])\n",
        "\n",
        "result = np.hstack((a, b))\n",
        "print(result)"
      ],
      "metadata": {
        "id": "NJfHfmhiNffD",
        "outputId": "fd219467-f5ba-419d-acc7-004112d7c46a",
        "colab": {
          "base_uri": "https://localhost:8080/"
        }
      },
      "execution_count": null,
      "outputs": [
        {
          "output_type": "stream",
          "name": "stdout",
          "text": [
            "[[ 1  2  3  7  8  9]\n",
            " [ 4  5  6 10 11 12]]\n"
          ]
        }
      ]
    }
  ]
}