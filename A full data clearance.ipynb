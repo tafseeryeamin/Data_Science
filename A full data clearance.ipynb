{
 "cells": [
  {
   "cell_type": "code",
   "id": "initial_id",
   "metadata": {
    "collapsed": true,
    "ExecuteTime": {
     "end_time": "2024-10-07T02:22:07.838962Z",
     "start_time": "2024-10-07T02:22:07.833819Z"
    }
   },
   "source": "import pandas as pd",
   "execution_count": 18,
   "outputs": []
  },
  {
   "metadata": {
    "ExecuteTime": {
     "end_time": "2024-10-07T02:22:07.895046Z",
     "start_time": "2024-10-07T02:22:07.874001Z"
    }
   },
   "cell_type": "code",
   "source": [
    "df=(pd.read_csv(\"Customer_Call_List.csv\"))\n",
    "df.head(100)\n",
    "\n"
   ],
   "id": "c6ecc900a65ba16f",
   "execution_count": 19,
   "outputs": []
  },
  {
   "metadata": {
    "ExecuteTime": {
     "end_time": "2024-10-07T02:22:07.906006Z",
     "start_time": "2024-10-07T02:22:07.902762Z"
    }
   },
   "cell_type": "code",
   "source": "df.columns",
   "id": "fd512f7b4e20aa5f",
   "execution_count": 20,
   "outputs": []
  },
  {
   "metadata": {
    "ExecuteTime": {
     "end_time": "2024-10-07T02:22:07.913924Z",
     "start_time": "2024-10-07T02:22:07.907768Z"
    }
   },
   "cell_type": "code",
   "source": "df.duplicated().sum()\n",
   "id": "4a48a5b2f0830308",
   "execution_count": 21,
   "outputs": []
  },
  {
   "metadata": {
    "ExecuteTime": {
     "end_time": "2024-10-07T02:22:07.928332Z",
     "start_time": "2024-10-07T02:22:07.920204Z"
    }
   },
   "cell_type": "code",
   "source": [
    "df = df.drop_duplicates()\n",
    "\n",
    "df"
   ],
   "id": "cf0f9d04a16757c0",
   "execution_count": 22,
   "outputs": []
  },
  {
   "metadata": {
    "ExecuteTime": {
     "end_time": "2024-10-07T02:22:07.947217Z",
     "start_time": "2024-10-07T02:22:07.930253Z"
    }
   },
   "cell_type": "code",
   "source": [
    "df=df.drop(columns=[\"Not_Useful_Column\"])\n",
    "df"
   ],
   "id": "38d94a009cf2aed0",
   "execution_count": 23,
   "outputs": []
  },
  {
   "metadata": {
    "ExecuteTime": {
     "end_time": "2024-10-07T02:22:07.956112Z",
     "start_time": "2024-10-07T02:22:07.947924Z"
    }
   },
   "cell_type": "code",
   "source": [
    "df['Last_Name']=df['Last_Name'].str.strip('/123.')\n",
    "\n",
    "df"
   ],
   "id": "95b745da7a2e31c4",
   "execution_count": 24,
   "outputs": []
  },
  {
   "metadata": {
    "ExecuteTime": {
     "end_time": "2024-10-07T02:22:07.971570Z",
     "start_time": "2024-10-07T02:22:07.963038Z"
    }
   },
   "cell_type": "code",
   "source": [
    "df[\"Phone_Number\"]=df[\"Phone_Number\"].str.replace('/',\"\")\n",
    "df[\"Phone_Number\"]=df[\"Phone_Number\"].str.replace('N/a',\"\")\n",
    "df[\"Phone_Number\"]=df[\"Phone_Number\"].str.replace('nan--',\"\")\n",
    "df[\"Phone_Number\"]=df[\"Phone_Number\"].str.replace('|',\"\")\n",
    "df[\"Phone_Number\"]=df[\"Phone_Number\"].str.replace('/',\"\")\n",
    "df[\"Phone_Number\"]=df[\"Phone_Number\"].str.replace('/',\"\")\n",
    "df[\"Phone_Number\"]=df[\"Phone_Number\"].str.replace('-',\"\")\n",
    "df[\"Phone_Number\"]=df[\"Phone_Number\"].str.replace('nan',\"\")\n",
    "df[\"Phone_Number\"]=df[\"Phone_Number\"].str.replace('Na',\"\")\n",
    "df"
   ],
   "id": "c9360596f89d0860",
   "execution_count": 25,
   "outputs": []
  },
  {
   "metadata": {
    "ExecuteTime": {
     "end_time": "2024-10-07T02:22:07.998569Z",
     "start_time": "2024-10-07T02:22:07.994239Z"
    }
   },
   "cell_type": "code",
   "source": "df[[\"Street_Address\",\"State\",\"Zip_Code\"]]=df['Address'].str.split(\",\", expand=True)\n",
   "id": "5c119d563e4f5bd1",
   "execution_count": 26,
   "outputs": []
  },
  {
   "metadata": {
    "ExecuteTime": {
     "end_time": "2024-10-07T02:22:08.196099Z",
     "start_time": "2024-10-07T02:22:08.188210Z"
    }
   },
   "cell_type": "code",
   "source": [
    "df[\"Paying Customer\"]=df[\"Paying Customer\"].str.replace('No',\"N\")\n",
    "df[\"Paying Customer\"]=df[\"Paying Customer\"].str.replace('Yes',\"Y\")\n",
    "df"
   ],
   "id": "745cef3a738aeb7a",
   "execution_count": 27,
   "outputs": []
  },
  {
   "metadata": {
    "ExecuteTime": {
     "end_time": "2024-10-07T02:22:08.259530Z",
     "start_time": "2024-10-07T02:22:08.253408Z"
    }
   },
   "cell_type": "code",
   "source": [
    "df[\"Do_Not_Contact\"]=df[\"Do_Not_Contact\"].str.replace('Yes',\"Y\")\n",
    "df[\"Do_Not_Contact\"]=df[\"Do_Not_Contact\"].str.replace('Yes',\"Y\")\n",
    "df"
   ],
   "id": "bf90b29eba586895",
   "execution_count": 28,
   "outputs": []
  },
  {
   "metadata": {
    "ExecuteTime": {
     "end_time": "2024-10-07T02:22:08.415120Z",
     "start_time": "2024-10-07T02:22:08.409267Z"
    }
   },
   "cell_type": "code",
   "source": [
    "df=df.fillna(\"\")\n",
    "df"
   ],
   "id": "2dc816fc185b4690",
   "execution_count": 29,
   "outputs": []
  },
  {
   "metadata": {
    "ExecuteTime": {
     "end_time": "2024-10-07T02:22:08.426526Z",
     "start_time": "2024-10-07T02:22:08.420993Z"
    }
   },
   "cell_type": "code",
   "source": [
    "for x in df.index:\n",
    "    if df.loc[x,\"Do_Not_Contact\"]==\"Y\":\n",
    "        df.drop(x, inplace=True)\n",
    "df"
   ],
   "id": "23fd578e330e852d",
   "execution_count": 30,
   "outputs": []
  },
  {
   "metadata": {
    "ExecuteTime": {
     "end_time": "2024-10-07T02:22:08.464610Z",
     "start_time": "2024-10-07T02:22:08.458118Z"
    }
   },
   "cell_type": "code",
   "source": [
    "for x in df.index:\n",
    "    if df.loc[x,\"Phone_Number\"]==\"\":\n",
    "        df.drop(x, inplace=True)\n",
    "df"
   ],
   "id": "40e1715c57bdf727",
   "execution_count": 31,
   "outputs": []
  },
  {
   "metadata": {
    "ExecuteTime": {
     "end_time": "2024-10-07T02:22:08.481121Z",
     "start_time": "2024-10-07T02:22:08.476270Z"
    }
   },
   "cell_type": "code",
   "source": [
    "df.reset_index(drop=True)\n",
    "df"
   ],
   "id": "f57e55a464cf3f20",
   "execution_count": 32,
   "outputs": []
  },
  {
   "metadata": {},
   "cell_type": "markdown",
   "source": [
    "str.strip()\n",
    "str.replace(\"\",\"\")\n",
    "str.split()\n",
    "for x in df.index:\n",
    "    if df.loc[x,\"Column\"]==\"\"\n",
    "    df.drop(x, inplace=True)"
   ],
   "id": "f24d42c8c3e4eb4d"
  },
  {
   "metadata": {
    "ExecuteTime": {
     "end_time": "2024-10-07T02:22:08.509416Z",
     "start_time": "2024-10-07T02:22:08.508072Z"
    }
   },
   "cell_type": "code",
   "source": "",
   "id": "45d15f980987b8f0",
   "execution_count": 32,
   "outputs": []
  }
 ],
 "metadata": {
  "kernelspec": {
   "display_name": "Python 3",
   "language": "python",
   "name": "python3"
  },
  "language_info": {
   "codemirror_mode": {
    "name": "ipython",
    "version": 2
   },
   "file_extension": ".py",
   "mimetype": "text/x-python",
   "name": "python",
   "nbconvert_exporter": "python",
   "pygments_lexer": "ipython2",
   "version": "2.7.6"
  }
 },
 "nbformat": 4,
 "nbformat_minor": 5
}
