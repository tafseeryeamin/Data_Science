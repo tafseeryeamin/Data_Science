{
  "nbformat": 4,
  "nbformat_minor": 0,
  "metadata": {
    "colab": {
      "provenance": []
    },
    "kernelspec": {
      "name": "python3",
      "display_name": "Python 3"
    },
    "language_info": {
      "name": "python"
    }
  },
  "cells": [
    {
      "cell_type": "markdown",
      "source": [
        "# What is Statistical Significance Test?\n",
        "\n",
        "In statistics, statistical significance means that the result that was produced has a reason behind it, it was not produced randomly, or by chance.\n",
        "\n",
        "\n",
        "SciPy provides us with a module called scipy.stats, which has functions for performing statistical significance tests."
      ],
      "metadata": {
        "id": "6ESMbeXJfSxg"
      }
    },
    {
      "cell_type": "markdown",
      "source": [
        "#Hypothesis in Statistics\n",
        "Hypothesis is an assumption about a parameter in population.\n",
        "\n",
        "#Null Hypothesis\n",
        "It assumes that the observation is not statistically significant.\n",
        "\n",
        "#Alternate Hypothesis\n",
        "It assumes that the observations are due to some reason.\n",
        "\n",
        "It's alternate to Null Hypothesis.\n",
        "\n",
        "**Example:**\n",
        "\n",
        "For an assessment of a student we would take:\n",
        "\n",
        "\"student is worse than average\" - as a null hypothesis, and:\n",
        "\n",
        "\"student is better than average\" - as an alternate hypothesis.\n",
        "\n",
        "#One tailed test\n",
        "When our hypothesis is testing for one side of the value only, it is called \"one tailed test\".\n",
        "\n",
        "Example:\n",
        "\n",
        "For the null hypothesis:\n",
        "\n",
        "\"the mean is equal to k\", we can have alternate hypothesis:\n",
        "\n",
        "\"the mean is less than k\", or:\n",
        "\n",
        "\"the mean is greater than k\"\n",
        "\n",
        "#Two tailed test\n",
        "When our hypothesis is testing for both side of the values.\n",
        "\n",
        "Example:\n",
        "\n",
        "For the null hypothesis:\n",
        "\n",
        "\"the mean is equal to k\", we can have alternate hypothesis:\n",
        "\n",
        "\"the mean is not equal to k\"\n",
        "\n",
        "In this case the mean is less than, or greater than k, and both sides are to be checked.\n",
        "\n",
        "#Alpha value\n",
        "Alpha value is the level of significance.\n",
        "\n",
        "Example:\n",
        "\n",
        "How close to extremes the data must be for null hypothesis to be rejected.\n",
        "\n",
        "It is usually taken as 0.01, 0.05, or 0.1.\n",
        "\n",
        "\n",
        "\n",
        "#P value\n",
        "P value tells how close to extreme the data actually is.\n",
        "\n",
        "P value and alpha values are compared to establish the statistical significance.\n",
        "\n",
        "If p value <= alpha we reject the null hypothesis and say that the data is statistically significant. otherwise we accept the null hypothesis.\n",
        "\n",
        "\n",
        "#T-Test\n",
        "T-tests are used to determine if there is significant deference between means of two variables and lets us know if they belong to the same distribution.\n",
        "\n",
        "It is a two tailed test.\n",
        "\n",
        "The function ttest_ind() takes two samples of same size and produces a tuple of t-statistic and p-value.\n",
        "\n"
      ],
      "metadata": {
        "id": "hcl3s4c-f1lF"
      }
    },
    {
      "cell_type": "code",
      "source": [
        "import numpy as np\n",
        "from scipy.stats import ttest_ind\n",
        "\n",
        "\n",
        "v1 = np.random.normal(size=100)\n",
        "v2 = np.random.normal(size=100)\n",
        "\n",
        "res=ttest_ind(v1,v2)\n",
        "print(res)"
      ],
      "metadata": {
        "colab": {
          "base_uri": "https://localhost:8080/"
        },
        "id": "dZ4NsYhvf0_q",
        "outputId": "a288306f-f1f2-4f01-a527-4b0293fd1615"
      },
      "execution_count": null,
      "outputs": [
        {
          "output_type": "stream",
          "name": "stdout",
          "text": [
            "TtestResult(statistic=-0.9617417069530521, pvalue=0.337352393200281, df=198.0)\n"
          ]
        }
      ]
    },
    {
      "cell_type": "markdown",
      "source": [
        "statistic (-0.9617): This is the t-statistic value, which represents how far the sample mean is from the null hypothesis (usually that there is no difference between the two means), in terms of the standard error. A value closer to 0 indicates less evidence against the null hypothesis.\n",
        "\n",
        "pvalue (0.3373): This is the p-value, which helps determine the significance of your results. A common threshold for significance is 0.05. Since your p-value (0.3373) is much higher than 0.05, it indicates that the difference between the two means is not statistically significant, meaning there's no strong evidence to reject the null hypothesis.\n",
        "\n",
        "df (198.0): This is the degrees of freedom, which is related to the sample size and affects the shape of the t-distribution. In your case, it's 198, which could suggest that the test was based on a sample of 200 observations (for a two-sample t-test, df is typically n-2).\n",
        "\n",
        "**Since the p-value is greater than 0.05, you do not have sufficient evidence to say there is a significant difference between the two groups' means.**"
      ],
      "metadata": {
        "id": "xEkRpghZ6Vfd"
      }
    },
    {
      "cell_type": "markdown",
      "source": [
        "#KS-Test\n",
        "KS test is used to check if given values follow a distribution.\n",
        "\n",
        "It can be used as a one tailed or two tailed test.\n",
        "\n",
        "By default it is two tailed. We can pass parameter alternative as a string of one of two-sided, less, or greater.\n",
        "\n",
        "\n",
        "\n"
      ],
      "metadata": {
        "id": "RjMOBrJy_UMx"
      }
    },
    {
      "cell_type": "code",
      "source": [
        "from scipy.stats import kstest\n",
        "\n",
        "v = np.random.normal(size=100)\n",
        "\n",
        "res = kstest(v, 'norm')\n",
        "\n",
        "print(res)"
      ],
      "metadata": {
        "colab": {
          "base_uri": "https://localhost:8080/"
        },
        "id": "e8EZLui2gcUQ",
        "outputId": "991978e4-a451-4984-ff26-ec3e0aead42a"
      },
      "execution_count": null,
      "outputs": [
        {
          "output_type": "stream",
          "name": "stdout",
          "text": [
            "KstestResult(statistic=0.06680891352534046, pvalue=0.7378439441392766, statistic_location=0.7830158115692747, statistic_sign=1)\n"
          ]
        }
      ]
    },
    {
      "cell_type": "markdown",
      "source": [
        "The result you’ve provided is from a Kolmogorov-Smirnov (K-S) test, which is used to determine if a sample comes from a particular distribution (often, a normal distribution). Here’s what the output means:\n",
        "\n",
        "statistic (0.0668): This is the K-S test statistic, which measures the maximum distance between the empirical distribution of your data and the specified theoretical distribution (e.g., normal distribution). A lower value indicates that the distributions are more similar.\n",
        "\n",
        "pvalue (0.7378): The p-value represents the probability that the observed difference (test statistic) is due to chance. In hypothesis testing:\n",
        "\n",
        "If the p-value is large (typically greater than 0.05), you fail to reject the null hypothesis, meaning your sample is likely from the theoretical distribution.\n",
        "Here, the p-value of 0.7378 is large, so you can conclude that there is no significant difference between the sample data and the theoretical distribution (they are likely from the same distribution).\n",
        "statistic_location (0.7830): This represents the point in the data where the maximum difference between the empirical and theoretical cumulative distributions occurs.\n",
        "\n",
        "statistic_sign (1): This indicates the direction of the difference. A positive sign suggests that the empirical distribution is greater than the theoretical distribution at the point of maximum difference."
      ],
      "metadata": {
        "id": "vxkihxaZEboQ"
      }
    }
  ]
}